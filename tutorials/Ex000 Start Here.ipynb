{
 "cells": [
  {
   "cell_type": "markdown",
   "metadata": {},
   "source": [
    "![CadQuery Logo](https://raw.githubusercontent.com/CadQuery/CQ-editor/master/icons/cadquery_logo_dark.ico)\n",
    "\n",
    "[Next](Ex001%20Simple%20Block.ipynb)\n",
    "\n",
    "# CadQuery Scripting Tutorials\n",
    "\n",
    "## Introduction\n",
    "\n",
    "Welcome to the CadQuery tutorials. These tutorials are based on the core CadQuery [examples](https://github.com/CadQuery/cadquery/tree/master/examples), and are generally structured to get more complex as you progress from Ex001 through Ex024. Ex100 is included as a good example of what can be done with CadQuery once you have mastered some of the main concepts.\n",
    "\n",
    "Each of the tutorials was created using the [jupyter-cadquery](https://github.com/bernhard-42/jupyter-cadquery) extension for JupyterLab. This allows the tutorials to be live, so that you can change things and experiment as you go through. In order for the code to execute, you will need to press `Shift+Enter` with each of the code cells selected to get them to execute. The code cells are laid out in such a way that they need to be executed in order. Big thanks to community member @bernhard-42 for this great extension.\n",
    "\n",
    "As you work through these tutorials, keep in mind that at its core, a CadQuery script is just Python. This means that you have access to the vast collection of science and engineering libraries that have been created by the Python community. Leveraging these libraries can add a great deal of depth to what can be accomplished with CadQuery.\n",
    "\n",
    "## Getting Help\n",
    "\n",
    "As you are going through the tutorials, you may find that you need help or that something isn't clear. The CadQuery community has a [Google Group](https://groups.google.com/forum/#!forum/cadquery) for general discussions that you may want to make use of. The Google Group is a good way to get help as your model scripts become more advanced as well.\n",
    "\n",
    "## Contents\n",
    "\n",
    "* [Ex001 Simple Block](Ex001%20Simple%20Block.ipynb) - First steps with CadQuery, learning to create a workplane and a box primitive.\n",
    "\n",
    "Use the navigation icons at the bottom of each notebook to move through the tutorials.\n",
    "\n",
    "[Next](Ex001%20Simple%20Block.ipynb)"
   ]
  }
 ],
 "metadata": {
  "kernelspec": {
   "display_name": "Python 3",
   "language": "python",
   "name": "python3"
  },
  "language_info": {
   "codemirror_mode": {
    "name": "ipython",
    "version": 3
   },
   "file_extension": ".py",
   "mimetype": "text/x-python",
   "name": "python",
   "nbconvert_exporter": "python",
   "pygments_lexer": "ipython3",
   "version": "3.6.8"
  }
 },
 "nbformat": 4,
 "nbformat_minor": 4
}
